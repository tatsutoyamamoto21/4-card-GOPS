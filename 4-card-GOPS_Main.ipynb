{
 "cells": [
  {
   "cell_type": "code",
   "execution_count": 2,
   "id": "2270292b",
   "metadata": {},
   "outputs": [],
   "source": [
    "import numpy as np"
   ]
  },
  {
   "cell_type": "markdown",
   "id": "34e745d9",
   "metadata": {},
   "source": [
    "### What to do\n",
    "2 by 2\n",
    "[[],[],\n",
    "[],[]]\n",
    "(black card, p1 cards, p2 cards)"
   ]
  },
  {
   "cell_type": "code",
   "execution_count": 3,
   "id": "f22e169c",
   "metadata": {},
   "outputs": [],
   "source": [
    "def dominationcheck(X, m):\n",
    "    nrows = X.shape[0]\n",
    "    ncols = X.shape[1]\n",
    "\n",
    "    output = []\n",
    "    if m == 'cols':\n",
    "        for i in range(0, ncols-1):\n",
    "            for j in range(i+1, ncols):\n",
    "                index1 = (X[:, i] < X[:, j]).sum()\n",
    "                index2 = (X[:, i] > X[:, j]).sum()\n",
    "                \n",
    "                if index1 == nrows:\n",
    "                    output.append(i)\n",
    "                if index2 == nrows:\n",
    "                    output.append(j)\n",
    "\n",
    "    elif m == 'rows':\n",
    "        for i in range(0, nrows-1):\n",
    "            for j in range(i+1, nrows):\n",
    "                index1 = (X[i, :] < X[j, :]).sum()\n",
    "                index2 = (X[i, :] > X[j, :]).sum()\n",
    "\n",
    "                if index1 == ncols:\n",
    "                    output.append(i)\n",
    "                if index2 == ncols:\n",
    "                    output.append(j)\n",
    "\n",
    "    return output"
   ]
  },
  {
   "cell_type": "code",
   "execution_count": 4,
   "id": "e2b28388",
   "metadata": {},
   "outputs": [],
   "source": [
    "def dominationdelete(A, B):\n",
    "    rows = dominationcheck(A, 'rows')\n",
    "    cols = dominationcheck(B, 'cols')\n",
    "    A = np.delete(A, rows, axis=0)\n",
    "    A = np.delete(A, cols, axis=1)\n",
    "    B = np.delete(B, rows, axis=0)\n",
    "    B = np.delete(B, cols, axis=1)\n",
    "    return A, B"
   ]
  },
  {
   "cell_type": "code",
   "execution_count": 5,
   "id": "4476546b",
   "metadata": {
    "scrolled": true
   },
   "outputs": [],
   "source": [
    "def dominationfinal(A, B):\n",
    "    while (A.shape != dominationdelete(A, B)[0].shape) and (B.shape != dominationdelete(A, B)[1].shape) :\n",
    "        A, B = dominationdelete(A, B)\n",
    "    return A, B"
   ]
  },
  {
   "cell_type": "code",
   "execution_count": 6,
   "id": "23eae6eb",
   "metadata": {},
   "outputs": [],
   "source": [
    "def func2by2(c, a, b, moves=False):\n",
    "    a1, a2 = a[0], a[1]\n",
    "    b1, b2 = b[0], b[1]\n",
    "    c1, c2 = c[0], c[1]\n",
    "    \n",
    "    payout_a = np.zeros((2,2))\n",
    "    payout_b = np.zeros((2,2))\n",
    "    \n",
    "    for i, x in enumerate(a):\n",
    "        for j, y in enumerate(b):\n",
    "            if x > y:\n",
    "                payout_a[i,j] += c1\n",
    "                payout_a[(i+1)%2,(j+1)%2] += c2\n",
    "            elif x == y:\n",
    "                payout_a[i,j] += c1/2\n",
    "                payout_b[i,j] += c1/2\n",
    "                payout_a[(i+1)%2,(j+1)%2] += c2/2\n",
    "                payout_b[(i+1)%2, (j+1)%2] += c2/2\n",
    "            else:\n",
    "                payout_b[i,j] += c1\n",
    "                payout_b[(i+1)%2,(j+1)%2] += c2\n",
    "    \n",
    "    print(payout_a)\n",
    "    print(payout_b)\n",
    "    \n",
    "    A, B = np.ones((2,2)), np.ones((2,2))\n",
    "    A[1,0], A[1,1] = payout_b[0,0]-payout_b[0,1], payout_b[1,0]-payout_b[1,1]\n",
    "    B[1,0], B[1,1] = payout_a[0,0]-payout_a[1,0], payout_a[0,1]-payout_a[1,1]\n",
    "\n",
    "    try:\n",
    "        p_a = np.linalg.solve(A, np.array([1, 0]))\n",
    "        p_b = np.linalg.solve(B, np.array([1, 0]))\n",
    "        print(p_a)\n",
    "        print(p_b)\n",
    "\n",
    "        result = (p_a[0] * payout_a[0, 0] + p_a[1] * payout_a[1, 0], p_b[0] * payout_b[0, 0] + p_b[1] * payout_b[0, 1])\n",
    "        print('By linalg')\n",
    "        return result\n",
    "\n",
    "    except np.linalg.LinAlgError:\n",
    "        result = dominationfinal(payout_a, payout_b)\n",
    "        print('By domination')\n",
    "        return (result[0].sum() / max(result[0].shape), result[1].sum() / max(result[1].shape))"
   ]
  },
  {
   "cell_type": "code",
   "execution_count": 8,
   "id": "7a16bc18",
   "metadata": {},
   "outputs": [
    {
     "name": "stdout",
     "output_type": "stream",
     "text": [
      "[[2.  4. ]\n",
      " [3.  1.5]]\n",
      "[[5.  3. ]\n",
      " [4.  5.5]]\n",
      "[0.42857143 0.57142857]\n",
      "[0.71428571 0.28571429]\n",
      "By linalg\n"
     ]
    },
    {
     "data": {
      "text/plain": [
       "(2.571428571428571, 4.428571428571429)"
      ]
     },
     "execution_count": 8,
     "metadata": {},
     "output_type": "execute_result"
    }
   ],
   "source": [
    "func2by2([3,4], [1,3], [2,3])"
   ]
  },
  {
   "cell_type": "code",
   "execution_count": 138,
   "id": "9a43977f",
   "metadata": {},
   "outputs": [
    {
     "data": {
      "text/plain": [
       "(array([[16]]), array([[16]]))"
      ]
     },
     "execution_count": 138,
     "metadata": {},
     "output_type": "execute_result"
    }
   ],
   "source": [
    "A = np.array([[18, 15, 9],\n",
    "             [20, 16, 8],\n",
    "             [18, 12, 0]])\n",
    "B = np.array([[18, 20, 18],\n",
    "             [15, 16, 12],\n",
    "             [9, 8, 0]])\n",
    "dominationfinal(A, B)"
   ]
  },
  {
   "cell_type": "code",
   "execution_count": 25,
   "metadata": {},
   "outputs": [
    {
     "name": "stdout",
     "output_type": "stream",
     "text": [
      "[[1.5 2. ]\n",
      " [1.  1.5]]\n",
      "[[1.5 1. ]\n",
      " [2.  1.5]]\n",
      "By domination\n"
     ]
    },
    {
     "data": {
      "text/plain": [
       "(1.5, 1.5)"
      ]
     },
     "execution_count": 25,
     "metadata": {},
     "output_type": "execute_result"
    }
   ],
   "source": [
    "func2by2([1,2],[1,2],[1,2])"
   ]
  },
  {
   "cell_type": "code",
   "execution_count": null,
   "metadata": {},
   "outputs": [],
   "source": []
  }
 ],
 "metadata": {
  "kernelspec": {
   "display_name": "Python 3",
   "language": "python",
   "name": "python3"
  },
  "language_info": {
   "codemirror_mode": {
    "name": "ipython",
    "version": 3
   },
   "file_extension": ".py",
   "mimetype": "text/x-python",
   "name": "python",
   "nbconvert_exporter": "python",
   "pygments_lexer": "ipython3",
   "version": "3.8.8"
  }
 },
 "nbformat": 4,
 "nbformat_minor": 5
}
