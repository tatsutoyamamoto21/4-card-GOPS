{
 "cells": [
  {
   "cell_type": "code",
   "execution_count": 80,
   "id": "2270292b",
   "metadata": {},
   "outputs": [],
   "source": [
    "import numpy as np\n",
    "import itertools"
   ]
  },
  {
   "cell_type": "markdown",
   "id": "34e745d9",
   "metadata": {},
   "source": [
    "### What to do\n",
    "2 by 2\n",
    "[[],[],\n",
    "[],[]]\n",
    "(black card, p1 cards, p2 cards)"
   ]
  },
  {
   "cell_type": "code",
   "execution_count": 33,
   "id": "23eae6eb",
   "metadata": {},
   "outputs": [],
   "source": [
    "def dominationcheck(X, m):\n",
    "    nrows = X.shape[0]\n",
    "    ncols = X.shape[1]\n",
    "\n",
    "    output = []\n",
    "    if m == 'cols':\n",
    "        for i in range(0, ncols-1):\n",
    "            for j in range(i+1, ncols):\n",
    "                index1 = (X[:, i] < X[:, j]).sum()\n",
    "                index2 = (X[:, i] > X[:, j]).sum()\n",
    "                \n",
    "                if index1 == nrows:\n",
    "                    output.append(i)\n",
    "                if index2 == nrows:\n",
    "                    output.append(j)\n",
    "\n",
    "    elif m == 'rows':\n",
    "        for i in range(0, nrows-1):\n",
    "            for j in range(i+1, nrows):\n",
    "                index1 = (X[i, :] < X[j, :]).sum()\n",
    "                index2 = (X[i, :] > X[j, :]).sum()\n",
    "\n",
    "                if index1 == ncols:\n",
    "                    output.append(i)\n",
    "                if index2 == ncols:\n",
    "                    output.append(j)\n",
    "\n",
    "    return output"
   ]
  },
  {
   "cell_type": "code",
   "execution_count": 34,
   "id": "f22e169c",
   "metadata": {},
   "outputs": [],
   "source": [
    "def dominationdelete(A, B, moves=False):\n",
    "    rows = dominationcheck(A, 'rows')\n",
    "    cols = dominationcheck(B, 'cols')\n",
    "    A = np.delete(A, rows, axis=0)\n",
    "    A = np.delete(A, cols, axis=1)\n",
    "    B = np.delete(B, rows, axis=0)\n",
    "    B = np.delete(B, cols, axis=1)\n",
    "\n",
    "    if moves:\n",
    "        return A, B, rows, cols\n",
    "    else:\n",
    "        return A, B"
   ]
  },
  {
   "cell_type": "code",
   "execution_count": 62,
   "id": "e2b28388",
   "metadata": {},
   "outputs": [],
   "source": [
    "def dominationfinal(A, B, moves=False):\n",
    "    removedrows = []\n",
    "    removedcols = []\n",
    "    while (A.shape != dominationdelete(A, B, moves)[0].shape) and (B.shape != dominationdelete(A, B, moves)[1].shape) :\n",
    "        result = dominationdelete(A, B, moves)\n",
    "        A = result[0]\n",
    "        B = result[1]\n",
    "\n",
    "        if moves:\n",
    "            removedrows += result[2]\n",
    "            removedcols += result[3]\n",
    "\n",
    "    return A, B, removedrows, removedcols"
   ]
  },
  {
   "cell_type": "code",
   "execution_count": 148,
   "metadata": {},
   "outputs": [],
   "source": [
    "def solve2by2(payout_a, payout_b, moves=False):\n",
    "    A, B = np.ones((2,2)), np.ones((2,2))\n",
    "    A[1,0], A[1,1] = payout_b[0,0]-payout_b[0,1], payout_b[1,0]-payout_b[1,1]\n",
    "    B[1,0], B[1,1] = payout_a[0,0]-payout_a[1,0], payout_a[0,1]-payout_a[1,1]\n",
    "    \n",
    "\n",
    "    result = dominationfinal(payout_a, payout_b, moves)\n",
    "\n",
    "    if result[0].shape != payout_a.shape:\n",
    "        print('By domination')\n",
    "        \n",
    "        if moves:\n",
    "            p_a, p_b = np.ones(2), np.ones(2)\n",
    "            for i in result[2]:\n",
    "                p_a[i] = 0\n",
    "            for j in result[3]:\n",
    "                p_b[i] = 0\n",
    "\n",
    "            strategy = (list(p_a), list(p_b))\n",
    "            print(strategy)\n",
    "            return (result[0].sum() / max(result[0].shape), result[1].sum() / max(result[1].shape)), strategy\n",
    "        else:\n",
    "            return (result[0].sum() / max(result[0].shape), result[1].sum() / max(result[1].shape))\n",
    "\n",
    "    else:\n",
    "        p_a = np.linalg.solve(A, np.array([1, 0]))\n",
    "        p_b = np.linalg.solve(B, np.array([1, 0]))\n",
    "    \n",
    "        result = (p_a[0] * payout_b[0, 0] + p_a[1] * payout_b[1, 0], p_b[0] * payout_a[0, 0] + p_b[1] * payout_a[0, 1])\n",
    "        print('By linalg')\n",
    "\n",
    "        if moves:\n",
    "            strategy = (list(p_a), list(p_b))\n",
    "            print(strategy)\n",
    "            return result, strategy\n",
    "        else:\n",
    "            return result\n"
   ]
  },
  {
   "cell_type": "code",
   "execution_count": 149,
   "id": "4476546b",
   "metadata": {
    "scrolled": true
   },
   "outputs": [],
   "source": [
    "def payout2by2(c, a, b, moves=False):\n",
    "    a1, a2 = a[0], a[1]\n",
    "    b1, b2 = b[0], b[1]\n",
    "    c1, c2 = c[0], c[1]\n",
    "    \n",
    "    payout_a = np.zeros((2,2))\n",
    "    payout_b = np.zeros((2,2))\n",
    "    \n",
    "    for i, x in enumerate(a):\n",
    "        for j, y in enumerate(b):\n",
    "            if x > y:\n",
    "                payout_a[i,j] += c1\n",
    "                payout_a[(i+1)%2,(j+1)%2] += c2\n",
    "            elif x == y:\n",
    "                payout_a[i,j] += c1/2\n",
    "                payout_b[i,j] += c1/2\n",
    "                payout_a[(i+1)%2,(j+1)%2] += c2/2\n",
    "                payout_b[(i+1)%2, (j+1)%2] += c2/2\n",
    "            else:\n",
    "                payout_b[i,j] += c1\n",
    "                payout_b[(i+1)%2,(j+1)%2] += c2\n",
    "    \n",
    "    print(payout_a)\n",
    "    print(payout_b)\n",
    "    \n",
    "    return solve2by2(payout_a, payout_b, moves)"
   ]
  },
  {
   "cell_type": "code",
   "execution_count": 154,
   "metadata": {},
   "outputs": [],
   "source": [
    "def solve2byN(payout_a, payout_b, moves=False):\n",
    "    cols = np.array([z for z in range(payout_a.shape[1])])\n",
    "    payoffs = {}\n",
    "\n",
    "    combs = list(itertools.combinations(cols, 2))\n",
    "\n",
    "    for i in combs:\n",
    "        nash = np.array(i)\n",
    "        check = np.setdiff1d(cols, nash)\n",
    " \n",
    "\n",
    "        result = solve2by2(payout_a[:, nash], payout_b[:, nash], moves=True)\n",
    "        \n",
    "        for j in check:\n",
    "            if sum(result[1][0]) > 1:\n",
    "                test = max(payout_b[:, j])\n",
    "            else:\n",
    "                test = np.matmul(result[1][0], payout_b[:, j])\n",
    "            \n",
    "            if result[0][1] >= test:\n",
    "                strategy = np.zeros(payout_a.shape[1])\n",
    "                ind = 0\n",
    "                for k in nash:\n",
    "                    strategy[k] = result[1][1][ind]\n",
    "                    ind += 1\n",
    "\n",
    "                payoffs[tuple(strategy)] = result[0][1]\n",
    "\n",
    "    \n",
    "    return payoffs"
   ]
  },
  {
   "cell_type": "code",
   "execution_count": 155,
   "metadata": {},
   "outputs": [
    {
     "name": "stdout",
     "output_type": "stream",
     "text": [
      "By linalg\n",
      "([0.6666666666666667, 0.3333333333333333], [0.3333333333333333, 0.6666666666666666])\n",
      "By domination\n",
      "([1.0, 0.0], [1.0, 0.0])\n",
      "By linalg\n",
      "([0.5, 0.5], [0.75, 0.25])\n"
     ]
    },
    {
     "data": {
      "text/plain": [
       "{(0.3333333333333333, 0.6666666666666666, 0.0): 0.6666666666666666,\n",
       " (1.0, 0.0, 0.0): 1.0,\n",
       " (0.0, 0.75, 0.25): 1.0}"
      ]
     },
     "execution_count": 155,
     "metadata": {},
     "output_type": "execute_result"
    }
   ],
   "source": [
    "pb = np.array([[1,0],[0,2],[-1,3]]).T\n",
    "pa = np.array([[2,0],[0,1],[4,1]]).T\n",
    "solve2byN(pa, pb)"
   ]
  },
  {
   "cell_type": "code",
   "execution_count": null,
   "metadata": {},
   "outputs": [],
   "source": []
  },
  {
   "cell_type": "code",
   "execution_count": 93,
   "metadata": {},
   "outputs": [],
   "source": [
    "tt = np.array([[0,1,2],[1,2,3],[2,3,4]])"
   ]
  },
  {
   "cell_type": "code",
   "execution_count": 95,
   "metadata": {},
   "outputs": [
    {
     "data": {
      "text/plain": [
       "array([[0, 1, 2],\n",
       "       [1, 2, 3],\n",
       "       [2, 3, 4]])"
      ]
     },
     "execution_count": 95,
     "metadata": {},
     "output_type": "execute_result"
    }
   ],
   "source": [
    "tt"
   ]
  },
  {
   "cell_type": "code",
   "execution_count": 85,
   "metadata": {},
   "outputs": [],
   "source": [
    "cc = np.array((4,3,1,4))"
   ]
  },
  {
   "cell_type": "code",
   "execution_count": 105,
   "metadata": {},
   "outputs": [
    {
     "data": {
      "text/plain": [
       "array([[0, 2],\n",
       "       [2, 4]])"
      ]
     },
     "execution_count": 105,
     "metadata": {},
     "output_type": "execute_result"
    }
   ],
   "source": [
    "tt[np.array((0,2))][:, np.array((0,2))]"
   ]
  },
  {
   "cell_type": "code",
   "execution_count": 106,
   "metadata": {},
   "outputs": [
    {
     "data": {
      "text/plain": [
       "array([1])"
      ]
     },
     "execution_count": 106,
     "metadata": {},
     "output_type": "execute_result"
    }
   ],
   "source": [
    "np.delete(cc, [3, 1])[np.array([1])]"
   ]
  },
  {
   "cell_type": "code",
   "execution_count": 84,
   "metadata": {},
   "outputs": [
    {
     "data": {
      "text/plain": [
       "(1, 2)"
      ]
     },
     "execution_count": 84,
     "metadata": {},
     "output_type": "execute_result"
    }
   ],
   "source": [
    "list(itertools.combinations([1,2,3], 2))[0]\n"
   ]
  }
 ],
 "metadata": {
  "kernelspec": {
   "display_name": "Python 3",
   "language": "python",
   "name": "python3"
  },
  "language_info": {
   "codemirror_mode": {
    "name": "ipython",
    "version": 3
   },
   "file_extension": ".py",
   "mimetype": "text/x-python",
   "name": "python",
   "nbconvert_exporter": "python",
   "pygments_lexer": "ipython3",
   "version": "3.8.9"
  }
 },
 "nbformat": 4,
 "nbformat_minor": 5
}
