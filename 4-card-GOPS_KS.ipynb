{
 "cells": [
  {
   "cell_type": "code",
   "execution_count": 80,
   "id": "2270292b",
   "metadata": {},
   "outputs": [],
   "source": [
    "import numpy as np\n",
    "import itertools"
   ]
  },
  {
   "cell_type": "markdown",
   "id": "34e745d9",
   "metadata": {},
   "source": [
    "### What to do\n",
    "2 by 2\n",
    "[[],[],\n",
    "[],[]]\n",
    "(black card, p1 cards, p2 cards)"
   ]
  },
  {
   "cell_type": "code",
   "execution_count": 33,
   "id": "23eae6eb",
   "metadata": {},
   "outputs": [],
   "source": [
    "def dominationcheck(X, m):\n",
    "    nrows = X.shape[0]\n",
    "    ncols = X.shape[1]\n",
    "\n",
    "    output = []\n",
    "    if m == 'cols':\n",
    "        for i in range(0, ncols-1):\n",
    "            for j in range(i+1, ncols):\n",
    "                index1 = (X[:, i] < X[:, j]).sum()\n",
    "                index2 = (X[:, i] > X[:, j]).sum()\n",
    "                \n",
    "                if index1 == nrows:\n",
    "                    output.append(i)\n",
    "                if index2 == nrows:\n",
    "                    output.append(j)\n",
    "\n",
    "    elif m == 'rows':\n",
    "        for i in range(0, nrows-1):\n",
    "            for j in range(i+1, nrows):\n",
    "                index1 = (X[i, :] < X[j, :]).sum()\n",
    "                index2 = (X[i, :] > X[j, :]).sum()\n",
    "\n",
    "                if index1 == ncols:\n",
    "                    output.append(i)\n",
    "                if index2 == ncols:\n",
    "                    output.append(j)\n",
    "\n",
    "    return output"
   ]
  },
  {
   "cell_type": "code",
   "execution_count": 34,
   "id": "f22e169c",
   "metadata": {},
   "outputs": [],
   "source": [
    "def dominationdelete(A, B, moves=False):\n",
    "    rows = dominationcheck(A, 'rows')\n",
    "    cols = dominationcheck(B, 'cols')\n",
    "    A = np.delete(A, rows, axis=0)\n",
    "    A = np.delete(A, cols, axis=1)\n",
    "    B = np.delete(B, rows, axis=0)\n",
    "    B = np.delete(B, cols, axis=1)\n",
    "\n",
    "    if moves:\n",
    "        return A, B, rows, cols\n",
    "    else:\n",
    "        return A, B"
   ]
  },
  {
   "cell_type": "code",
   "execution_count": 62,
   "id": "e2b28388",
   "metadata": {},
   "outputs": [],
   "source": [
    "def dominationfinal(A, B, moves=False):\n",
    "    removedrows = []\n",
    "    removedcols = []\n",
    "    while (A.shape != dominationdelete(A, B, moves)[0].shape) and (B.shape != dominationdelete(A, B, moves)[1].shape) :\n",
    "        result = dominationdelete(A, B, moves)\n",
    "        A = result[0]\n",
    "        B = result[1]\n",
    "\n",
    "        if moves:\n",
    "            removedrows += result[2]\n",
    "            removedcols += result[3]\n",
    "\n",
    "    return A, B, removedrows, removedcols"
   ]
  },
  {
   "cell_type": "code",
   "execution_count": 242,
   "metadata": {},
   "outputs": [],
   "source": [
    "def solve2by2(payout_a, payout_b, moves=False):\n",
    "    if (payout_a[0] == payout_a[1]).all() and (payout_b[:, 0] == payout_b[:, 1]).all():\n",
    "        result = (payout_a[0, 0], payout_b[0, 0])\n",
    "        strategy = ([1,1],[1,1])\n",
    "        return result, strategy\n",
    "    \n",
    "    A, B = np.ones((2,2)), np.ones((2,2))\n",
    "    A[1,0], A[1,1] = payout_b[0,0]-payout_b[0,1], payout_b[1,0]-payout_b[1,1]\n",
    "    B[1,0], B[1,1] = payout_a[0,0]-payout_a[1,0], payout_a[0,1]-payout_a[1,1]\n",
    "    \n",
    "\n",
    "    result = dominationfinal(payout_a, payout_b, moves)\n",
    "\n",
    "    if result[0].shape != payout_a.shape:\n",
    "\n",
    "        if moves:\n",
    "            p_a, p_b = np.ones(2), np.ones(2)\n",
    "            for i in result[2]:\n",
    "                p_a[i] = 0\n",
    "            for j in result[3]:\n",
    "                p_b[j] = 0\n",
    "\n",
    "            strategy = (list(p_a), list(p_b))\n",
    "            return (result[0].sum() / max(result[0].shape), result[1].sum() / max(result[1].shape)), strategy\n",
    "        else:\n",
    "            return (result[0].sum() / max(result[0].shape), result[1].sum() / max(result[1].shape))\n",
    "\n",
    "    else:\n",
    "        p_a = np.linalg.solve(A, np.array([1, 0]))\n",
    "        p_b = np.linalg.solve(B, np.array([1, 0]))\n",
    "    \n",
    "        result = (p_b[0] * payout_a[0, 0] + p_b[1] * payout_a[0, 1], p_a[0] * payout_b[0, 0] + p_a[1] * payout_b[1, 0])\n",
    "\n",
    "        if moves:\n",
    "            strategy = (list(p_a), list(p_b))\n",
    "            return result, strategy\n",
    "        else:\n",
    "            return result\n"
   ]
  },
  {
   "cell_type": "code",
   "execution_count": 243,
   "id": "4476546b",
   "metadata": {
    "scrolled": true
   },
   "outputs": [],
   "source": [
    "def payout2by2(c, a, b, moves=False):\n",
    "    a1, a2 = a[0], a[1]\n",
    "    b1, b2 = b[0], b[1]\n",
    "    c1, c2 = c[0], c[1]\n",
    "    \n",
    "    payout_a = np.zeros((2,2))\n",
    "    payout_b = np.zeros((2,2))\n",
    "    \n",
    "    for i, x in enumerate(a):\n",
    "        for j, y in enumerate(b):\n",
    "            if x > y:\n",
    "                payout_a[i,j] += c1\n",
    "                payout_a[(i+1)%2,(j+1)%2] += c2\n",
    "            elif x == y:\n",
    "                payout_a[i,j] += c1/2\n",
    "                payout_b[i,j] += c1/2\n",
    "                payout_a[(i+1)%2,(j+1)%2] += c2/2\n",
    "                payout_b[(i+1)%2, (j+1)%2] += c2/2\n",
    "            else:\n",
    "                payout_b[i,j] += c1\n",
    "                payout_b[(i+1)%2,(j+1)%2] += c2\n",
    "    \n",
    "    print(payout_a)\n",
    "    print(payout_b)\n",
    "    \n",
    "    return solve2by2(payout_a, payout_b, moves)"
   ]
  },
  {
   "cell_type": "code",
   "execution_count": 251,
   "metadata": {},
   "outputs": [],
   "source": [
    "def solve2byN(payout_a, payout_b, moves=False):\n",
    "    c = payout_a[0, 0] + payout_b[0, 0]\n",
    "    cols = np.array([z for z in range(payout_a.shape[1])])\n",
    "    strategy_a = {}\n",
    "    payoffs_b = {}\n",
    "\n",
    "    combs = list(itertools.combinations(cols, 2))\n",
    "\n",
    "    for i in combs:\n",
    "        nash = np.array(i)\n",
    "        check = np.setdiff1d(cols, nash)\n",
    "\n",
    "        result = solve2by2(payout_a[:, nash], payout_b[:, nash], moves=True)\n",
    "        \n",
    "        for j in check:\n",
    "            if sum(result[1][0]) > 1:\n",
    "                test = min(payout_b[:, j])\n",
    "                    \n",
    "            else:\n",
    "                test = np.matmul(result[1][0], payout_b[:, j])\n",
    "            \n",
    "\n",
    "            if result[0][1] >= test:\n",
    "                strategy = np.zeros(payout_a.shape[1])\n",
    "                ind = 0\n",
    "                for k in nash:\n",
    "                    strategy[k] = result[1][1][ind]\n",
    "                    ind += 1\n",
    "\n",
    "                strategy_a[tuple(strategy)] = result[1][0]\n",
    "                payoffs_b[tuple(strategy)] = result[0][1]\n",
    "\n",
    "\n",
    "    max_payoff_b = max(payoffs_b.values())\n",
    "    max_strategy = []\n",
    "\n",
    "    for key, val in payoffs_b.items():\n",
    "        if val == max_payoff_b:\n",
    "            max_strategy.append(key)\n",
    "\n",
    "    if len(max_strategy) > 1:\n",
    "        index = [sum(k) for k in max_strategy]\n",
    "        l = 0\n",
    "        for ind in index:\n",
    "            if ind == max(index):\n",
    "                max_strategy = max_strategy[l]\n",
    "                break\n",
    "            l += 1\n",
    "    else:\n",
    "        max_strategy = max_strategy[0]\n",
    "\n",
    "    return (c-max_payoff_b, max_payoff_b), (strategy_a[max_strategy], list(max_strategy))\n",
    "        \n",
    "        \n",
    "\n",
    "\n"
   ]
  },
  {
   "cell_type": "code",
   "execution_count": 252,
   "metadata": {},
   "outputs": [
    {
     "data": {
      "text/plain": [
       "((2.0, 1.0), ([1.0, 0.0], [1.0, 0.0, 0.0, 0.0]))"
      ]
     },
     "execution_count": 252,
     "metadata": {},
     "output_type": "execute_result"
    }
   ],
   "source": [
    "pa = np.array([[2,0,4,0],[0,1,1,0]])\n",
    "pb = np.array([[1,0,-1,0],[0,2,3,0]])\n",
    "\n",
    "solve2byN(pa, pb)"
   ]
  }
 ],
 "metadata": {
  "kernelspec": {
   "display_name": "Python 3",
   "language": "python",
   "name": "python3"
  },
  "language_info": {
   "codemirror_mode": {
    "name": "ipython",
    "version": 3
   },
   "file_extension": ".py",
   "mimetype": "text/x-python",
   "name": "python",
   "nbconvert_exporter": "python",
   "pygments_lexer": "ipython3",
   "version": "3.8.9"
  }
 },
 "nbformat": 4,
 "nbformat_minor": 5
}
